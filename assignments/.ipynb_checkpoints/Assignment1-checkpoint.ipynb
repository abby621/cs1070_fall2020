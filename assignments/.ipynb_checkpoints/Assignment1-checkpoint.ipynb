{
 "cells": [
  {
   "cell_type": "code",
   "execution_count": 7,
   "metadata": {},
   "outputs": [],
   "source": [
    "import pandas as pd\n",
    "import numpy as np\n",
    "import matplotlib.pyplot as plt"
   ]
  },
  {
   "cell_type": "markdown",
   "metadata": {},
   "source": [
    "The following block of code is supposed to sort a list from smallest to largest.\n",
    "\n",
    "Run the next two cells."
   ]
  },
  {
   "cell_type": "code",
   "execution_count": 8,
   "metadata": {},
   "outputs": [],
   "source": [
    "def ascending_sort(list_to_sort):\n",
    "    # create an empty list that will contain the sorted elements\n",
    "    sorted_list = []\n",
    "    \n",
    "    # loop over the elements in our input list\n",
    "    for num in list_to_sort:\n",
    "        # check if our list is empty\n",
    "        if len(sorted_list) == 0:\n",
    "            sorted_list.append(num)\n",
    "            \n",
    "        # check if num should go at the start\n",
    "        if num < list_to_sort[0]:\n",
    "            sorted_list.insert(0, num)\n",
    "    \n",
    "    # return the sorted list\n",
    "    return sorted_list"
   ]
  },
  {
   "cell_type": "code",
   "execution_count": 9,
   "metadata": {},
   "outputs": [
    {
     "data": {
      "text/plain": [
       "[1, 3, 5]"
      ]
     },
     "execution_count": 9,
     "metadata": {},
     "output_type": "execute_result"
    }
   ],
   "source": [
    "my_list = [5, 3, 1]\n",
    "ascending_sort(my_list)"
   ]
  },
  {
   "cell_type": "markdown",
   "metadata": {},
   "source": [
    "Awesome! That worked!"
   ]
  },
  {
   "cell_type": "markdown",
   "metadata": {},
   "source": [
    "<h4>Question 1. (10 points)</h4>\n",
    "\n",
    "Will this algorithm work for any list of numbers? Why or why not? If you said it won't work, what is an example of a list for which it won't work? \n",
    "\n",
    "Your answer should just be written out in English (I'm not expecting Python code)."
   ]
  },
  {
   "cell_type": "markdown",
   "metadata": {},
   "source": [
    "....replace this text with your answer .... (to edit the text in this cell, double click on it)"
   ]
  },
  {
   "cell_type": "markdown",
   "metadata": {},
   "source": [
    "<h4>Question 2. (10 points)</h4>\n",
    "\n",
    "As a group, you came up with an algorithm to generate the Fibonacci sequence.\n",
    "\n",
    "A different interesting numerical sequence is the Square Number Sequence: 1, 4, 9, 16, 25, 36, 49 ....\n",
    "\n",
    "A square number is produced when a number is multiplied by itself.\n",
    "\n",
    "The Square Number Sequence is the square numbers in increasing order starting from 1."
   ]
  },
  {
   "cell_type": "markdown",
   "metadata": {},
   "source": [
    "Write (in English) an algorithm that would generate the numbers of the Square Number Sequence. (the sequence is infinite -- your algorithm should just keep going forever)"
   ]
  },
  {
   "cell_type": "markdown",
   "metadata": {},
   "source": [
    "....replace this text with your answer .... (to edit the text in this cell, double click on it)"
   ]
  },
  {
   "cell_type": "markdown",
   "metadata": {},
   "source": [
    "<h4> Bonus: (5 points) </h4>\n",
    "Implement the algorithm that you described in English above in Python.\n",
    "\n",
    "Since we don't want to crash the server again, have your code stop once the list is > 100 elements long. (Reminder: you can check how long a list is with len(your_list) and you can stop a for loop from executing by using the \"break\" command -- https://www.programiz.com/python-programming/break-continue )"
   ]
  },
  {
   "cell_type": "code",
   "execution_count": null,
   "metadata": {},
   "outputs": [],
   "source": [
    "# your code for the bonus problem goes here"
   ]
  },
  {
   "cell_type": "markdown",
   "metadata": {},
   "source": [
    "<h4> Question 3. (5 pts) </h4>\n",
    "\n",
    "Write a for loop that prints out each letter of your name (hint: you'll need to create a variable that contains your name first -- and remember! Strings go inside of quotation marks, otherwise python will think it's a variable)."
   ]
  },
  {
   "cell_type": "code",
   "execution_count": null,
   "metadata": {},
   "outputs": [],
   "source": [
    "# your code goes here\n"
   ]
  },
  {
   "cell_type": "markdown",
   "metadata": {},
   "source": [
    "<h4> Question 4. (5 pts)</h4>\n",
    "\n",
    "In the first chapter of Algorithms of Oppression, \"A Society, Searching\", Dr. Noble includes a letter from Google in response to concerns that searches for the word \"Jew\" returned a plethora of anti-semetic pages (this letter is included in Figure 1.12 on page 43 of the text). Do you find Google's justification from the letter a sufficient justification for the returned search results? Why or why not?"
   ]
  },
  {
   "cell_type": "markdown",
   "metadata": {},
   "source": [
    "....replace this text with your answer .... (to edit the text in this cell, double click on it)"
   ]
  }
 ],
 "metadata": {
  "kernelspec": {
   "display_name": "Python 3",
   "language": "python",
   "name": "python3"
  },
  "language_info": {
   "codemirror_mode": {
    "name": "ipython",
    "version": 3
   },
   "file_extension": ".py",
   "mimetype": "text/x-python",
   "name": "python",
   "nbconvert_exporter": "python",
   "pygments_lexer": "ipython3",
   "version": "3.7.4"
  }
 },
 "nbformat": 4,
 "nbformat_minor": 2
}
