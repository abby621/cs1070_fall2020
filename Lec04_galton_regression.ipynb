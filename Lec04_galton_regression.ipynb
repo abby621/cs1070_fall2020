{
 "cells": [
  {
   "cell_type": "code",
   "execution_count": null,
   "metadata": {},
   "outputs": [],
   "source": [
    "import pandas as pd\n",
    "import numpy as np\n",
    "import matplotlib.pyplot as plt"
   ]
  },
  {
   "cell_type": "code",
   "execution_count": null,
   "metadata": {},
   "outputs": [],
   "source": [
    "# Download Galton's data\n",
    "galton = pd.read_csv('https://raw.githubusercontent.com/abby621/cs1070_materials/master/fl2019/demos/galton.csv')\n",
    "galton"
   ]
  },
  {
   "cell_type": "code",
   "execution_count": null,
   "metadata": {},
   "outputs": [],
   "source": [
    "father_heights = galton['father']\n",
    "mother_heights = galton['mother']\n",
    "midparent_heights = galton['midparentHeight']\n",
    "child_heights = galton['childHeight']"
   ]
  },
  {
   "cell_type": "code",
   "execution_count": null,
   "metadata": {},
   "outputs": [],
   "source": [
    "plt.scatter(father_heights, child_heights)"
   ]
  },
  {
   "cell_type": "code",
   "execution_count": null,
   "metadata": {},
   "outputs": [],
   "source": [
    "plt.scatter(mother_heights, child_heights)"
   ]
  },
  {
   "cell_type": "code",
   "execution_count": null,
   "metadata": {},
   "outputs": [],
   "source": [
    "plt.scatter(midparent_heights, child_heights)"
   ]
  },
  {
   "cell_type": "code",
   "execution_count": null,
   "metadata": {},
   "outputs": [],
   "source": [
    "def inds_between(values,low,high):\n",
    "    \n",
    "    values_array = np.array(values) # arrays are like a list, but support more mathematical operations\n",
    "    \n",
    "    above_low = values_array>=low # will be True for all values in the array that are >= low\n",
    "    \n",
    "    below_high = values_array<=high # will be True for all values in the array that are <= high\n",
    "    \n",
    "    is_between = above_low * below_high # booleans can be interpreted as integers (1 for True and 0 for False) \n",
    "    # so this multiplication will only be 1 where the numbers are True (or 1) when both above_low and below_high \n",
    "    # are True (or 1)\n",
    "    \n",
    "    between_indices = np.where(is_between)[0] # finds the places where is_between is true\n",
    "    return between_indices\n",
    "\n",
    "my_values = [1,3,5,9]\n",
    "between_inds = inds_between(my_values,4,12)\n",
    "\n",
    "print('indices that are between 4 and 12: ', between_inds)\n",
    "for ind in between_inds:\n",
    "    print(my_values[ind])"
   ]
  },
  {
   "cell_type": "code",
   "execution_count": null,
   "metadata": {},
   "outputs": [],
   "source": [
    "def predict_child(midparent):\n",
    "    close_inds = values_between(midparent_heights,midparent-0.5, midparent+0.5)\n",
    "    child_heights_for_close_parents = np.array(child_heights)[close_inds]\n",
    "    predicted_height = child_heights_for_close_parents.mean()\n",
    "    return predicted_height"
   ]
  },
  {
   "cell_type": "code",
   "execution_count": null,
   "metadata": {},
   "outputs": [],
   "source": [
    "predicted_heights = []\n",
    "for mp_height in np.arange(64,76,0.1):\n",
    "    predicted_height = predict_child(mp_height)\n",
    "    predicted_heights.append((mp_height, predicted_height))\n",
    "    \n",
    "print(predicted_heights)"
   ]
  },
  {
   "cell_type": "code",
   "execution_count": null,
   "metadata": {},
   "outputs": [],
   "source": [
    "# make our scatter plot of midparent heights vs. child heights\n",
    "plt.scatter(midparent_heights, child_heights)\n",
    "\n",
    "# plot our \"child predictions\" in yellow\n",
    "for midparent, child in predicted_heights:\n",
    "    plt.scatter(midparent,child, color='gold')\n",
    "\n",
    "# show the \"window\" that we considered for a midparent height of 68\n",
    "plt.plot([67.5, 67.5], [50, 85], color='red', lw=2)\n",
    "plt.plot([68.5, 68.5], [50, 85], color='red', lw=2)\n",
    "plt.scatter(68, 66.24, color='magenta', s=40)"
   ]
  },
  {
   "cell_type": "code",
   "execution_count": null,
   "metadata": {},
   "outputs": [],
   "source": [
    "# how do we get a line that doesn't wobble up and down so much?\n",
    "# back to slides about linear regression"
   ]
  },
  {
   "cell_type": "code",
   "execution_count": null,
   "metadata": {},
   "outputs": [],
   "source": []
  },
  {
   "cell_type": "code",
   "execution_count": null,
   "metadata": {},
   "outputs": [],
   "source": []
  },
  {
   "cell_type": "code",
   "execution_count": null,
   "metadata": {},
   "outputs": [],
   "source": []
  },
  {
   "cell_type": "code",
   "execution_count": null,
   "metadata": {},
   "outputs": [],
   "source": []
  },
  {
   "cell_type": "code",
   "execution_count": null,
   "metadata": {},
   "outputs": [],
   "source": [
    "# In order to compare data with very different units, we can convert them to\n",
    "# a \"Standard Unit\", where the data is centered at 0\n",
    "# and the Standard Deviation (how much the data varies from the mean) is 1\n",
    "def standard_units(nums):\n",
    "    mean = np.mean(nums)\n",
    "    std = np.std(nums)\n",
    "    return (nums - mean) / std\n",
    "\n",
    "# The \"correlation coefficient\" (r) is a measure of how correlated x and y are\n",
    "# -1: perfect negative correlation\n",
    "# 0: uncorrelated\n",
    "# 1: perfect positive correlation\n",
    "def correlation_coeff(x, y):\n",
    "    standarized_x = standard_units(x)\n",
    "    standardized_y = standard_units(y)\n",
    "    r = np.mean(standarized_x * standardized_y)\n",
    "    return r"
   ]
  },
  {
   "cell_type": "code",
   "execution_count": null,
   "metadata": {},
   "outputs": [],
   "source": [
    "from ipywidgets import interact\n",
    "\n",
    "def visualize_corr_coeff(r):\n",
    "    plt.figure(figsize=(5,5))\n",
    "    x = np.random.normal(0, 1, 1000)\n",
    "    z = np.random.normal(0, 1, 1000)\n",
    "    y = r*x + (np.sqrt(1-r**2))*z\n",
    "    plt.scatter(x,y)\n",
    "    plt.xlim(-4,4)\n",
    "    plt.ylim(-4,4)\n",
    "    plt.show()\n",
    "\n",
    "import ipywidgets as widgets\n",
    "_ = interact(visualize_corr_coeff, r=(-1,1,0.1))"
   ]
  },
  {
   "cell_type": "code",
   "execution_count": null,
   "metadata": {},
   "outputs": [],
   "source": [
    "standard_midpartent_heights = standard_units(midparent_heights)\n",
    "standard_child_heights = standard_units(child_heights)\n",
    "\n",
    "plt.scatter(standard_midpartent_heights,standard_child_heights)\n",
    "plt.xlim(-4,4)\n",
    "plt.ylim(-4,4)\n",
    "# draw a line with slope = 1\n",
    "plt.plot([-4,4],[-4,4], color='r',lw=2)\n",
    "\n",
    "# draw a line at an x-value i want to predict\n",
    "plt.plot([2.5,2.5],[-4,4],color='g',lw=2)\n",
    "\n",
    "# does the red line look like a good prediction line for this plot?\n",
    "# not really! we'd expect the red line to intersect at the mean of those points"
   ]
  },
  {
   "cell_type": "code",
   "execution_count": null,
   "metadata": {},
   "outputs": [],
   "source": [
    "plt.scatter(standard_midpartent_heights,standard_child_heights)\n",
    "plt.xlim(-4,4)\n",
    "plt.ylim(-4,4)\n",
    "plt.plot([-4,4],[-4,4], color='r',lw=2)\n",
    "plt.plot([2.5,2.5],[-4,4],color='g',lw=2)\n",
    "\n",
    "# draw a line with slope = r!\n",
    "r = correlation_coeff(midparent_heights,child_heights)\n",
    "plt.plot([-4,4],[-4*r,4*r], color='b',lw=2)\n",
    "\n",
    "# that's our linear regression line!"
   ]
  },
  {
   "cell_type": "code",
   "execution_count": null,
   "metadata": {},
   "outputs": [],
   "source": [
    "# we can use this to make predictions _in standard units_\n",
    "# how do we get it back to inches?\n",
    "\n",
    "# compute the mean and standard deviation of both variables\n",
    "parent_mean = np.mean(midparent_heights)\n",
    "parent_sd = np.std(midparent_heights)\n",
    "child_mean = np.mean(child_heights)\n",
    "child_sd = np.std(child_heights)\n",
    "\n",
    "\n",
    "def predict_with_regression(parent):\n",
    "    # normalize the parent height \n",
    "    parent_su = (parent - parent_mean) / parent_sd\n",
    "    \n",
    "    # predict the child height in standard units using the equation of our regression line \n",
    "    child_su = r * parent_su\n",
    "    \n",
    "    # convert back into \"real\" units\n",
    "    predicted_height = child_su * child_sd + child_mean\n",
    "    return predicted_height\n",
    "\n",
    "predict_with_regression(68)"
   ]
  }
 ],
 "metadata": {
  "kernelspec": {
   "display_name": "Python 3",
   "language": "python",
   "name": "python3"
  },
  "language_info": {
   "codemirror_mode": {
    "name": "ipython",
    "version": 3
   },
   "file_extension": ".py",
   "mimetype": "text/x-python",
   "name": "python",
   "nbconvert_exporter": "python",
   "pygments_lexer": "ipython3",
   "version": "3.7.4"
  }
 },
 "nbformat": 4,
 "nbformat_minor": 2
}
