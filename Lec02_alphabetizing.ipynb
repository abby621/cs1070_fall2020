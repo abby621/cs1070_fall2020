{
 "cells": [
  {
   "cell_type": "code",
   "execution_count": 9,
   "metadata": {},
   "outputs": [
    {
     "name": "stdout",
     "output_type": "stream",
     "text": [
      "Before alphabetizing:  ['SLU', 'Billiken', 'Arch', 'COVID']\n"
     ]
    }
   ],
   "source": [
    "# This is a Python comment. It's used to explain what the code is doing.\n",
    "\n",
    "# create our list that isn't yet alphabetized\n",
    "unalphabetized_list = ['SLU','Billiken','Arch','COVID']\n",
    "\n",
    "print('Before alphabetizing: ', unalphabetized_list)\n",
    "\n",
    "# you can either hit the \"Run\" button to run this cell\n",
    "# or hit Control - Enter on your keyboard"
   ]
  },
  {
   "cell_type": "code",
   "execution_count": 17,
   "metadata": {},
   "outputs": [
    {
     "name": "stdout",
     "output_type": "stream",
     "text": [
      "After alphabetizing:  ['Arch', 'Billiken', 'COVID', 'SLU']\n"
     ]
    }
   ],
   "source": [
    "# The following code is our alphabetizing algorithm.\n",
    "# We are going to go through this line by line in class\n",
    "\n",
    "# create our empty list that will contain the alphabetized words when we're done\n",
    "alphabetized_list = []\n",
    "\n",
    "for w1 in unalphabetized_list:\n",
    "    if len(alphabetized_list) == 0:\n",
    "        alphabetized_list.append(w1)\n",
    "    else:\n",
    "        for word2_index in range(len(alphabetized_list)):\n",
    "            w2 = alphabetized_list[word2_index]\n",
    "            if w1[0] < w2[0]:\n",
    "                alphabetized_list.insert(word2_index,w1)\n",
    "                break\n",
    "            else:\n",
    "                if word2_index == len(alphabetized_list)-1:\n",
    "                    alphabetized_list.append(w1)\n",
    "\n",
    "print('After alphabetizing: ', alphabetized_list)"
   ]
  },
  {
   "cell_type": "code",
   "execution_count": 23,
   "metadata": {},
   "outputs": [
    {
     "data": {
      "text/plain": [
       "['frog', 'dog', 'cat', 'bird']"
      ]
     },
     "execution_count": 23,
     "metadata": {},
     "output_type": "execute_result"
    }
   ],
   "source": [
    "# This is the same thing but using a *function*\n",
    "\n",
    "def alphabetize_list(unalphabetized_list):\n",
    "    alphabetized_list = []\n",
    "\n",
    "    for w1 in unalphabetized_list:\n",
    "        if len(alphabetized_list) == 0:\n",
    "            alphabetized_list.append(w1)\n",
    "        else:\n",
    "            for word2_index in range(len(alphabetized_list)):\n",
    "                w2 = alphabetized_list[word2_index]\n",
    "                if w1[0] < w2[0]:\n",
    "                    alphabetized_list.insert(word2_index,w1)\n",
    "                    break\n",
    "                else:\n",
    "                    if word2_index == len(alphabetized_list)-1:\n",
    "                        alphabetized_list.append(w1)\n",
    "    \n",
    "    return alphabetized_list\n",
    "\n",
    "alphabetize_list(['dog','cat','frog','bird'])"
   ]
  },
  {
   "cell_type": "code",
   "execution_count": 24,
   "metadata": {},
   "outputs": [
    {
     "ename": "TypeError",
     "evalue": "'int' object is not subscriptable",
     "output_type": "error",
     "traceback": [
      "\u001b[0;31m---------------------------------------------------------------------------\u001b[0m",
      "\u001b[0;31mTypeError\u001b[0m                                 Traceback (most recent call last)",
      "\u001b[0;32m<ipython-input-24-9d876a7d9222>\u001b[0m in \u001b[0;36m<module>\u001b[0;34m\u001b[0m\n\u001b[1;32m      3\u001b[0m \u001b[0;34m\u001b[0m\u001b[0m\n\u001b[1;32m      4\u001b[0m \u001b[0mmy_list\u001b[0m \u001b[0;34m=\u001b[0m \u001b[0;34m[\u001b[0m\u001b[0;36m1\u001b[0m\u001b[0;34m,\u001b[0m\u001b[0;36m5\u001b[0m\u001b[0;34m,\u001b[0m\u001b[0;36m9\u001b[0m\u001b[0;34m,\u001b[0m\u001b[0;36m47\u001b[0m\u001b[0;34m,\u001b[0m\u001b[0;34m-\u001b[0m\u001b[0;36m5\u001b[0m\u001b[0;34m]\u001b[0m\u001b[0;34m\u001b[0m\u001b[0;34m\u001b[0m\u001b[0m\n\u001b[0;32m----> 5\u001b[0;31m \u001b[0malphabetize_list\u001b[0m\u001b[0;34m(\u001b[0m\u001b[0mmy_list\u001b[0m\u001b[0;34m)\u001b[0m\u001b[0;34m\u001b[0m\u001b[0;34m\u001b[0m\u001b[0m\n\u001b[0m",
      "\u001b[0;32m<ipython-input-23-ced1a766fdc1>\u001b[0m in \u001b[0;36malphabetize_list\u001b[0;34m(unalphabetized_list)\u001b[0m\n\u001b[1;32m     10\u001b[0m             \u001b[0;32mfor\u001b[0m \u001b[0mword2_index\u001b[0m \u001b[0;32min\u001b[0m \u001b[0mrange\u001b[0m\u001b[0;34m(\u001b[0m\u001b[0mlen\u001b[0m\u001b[0;34m(\u001b[0m\u001b[0malphabetized_list\u001b[0m\u001b[0;34m)\u001b[0m\u001b[0;34m)\u001b[0m\u001b[0;34m:\u001b[0m\u001b[0;34m\u001b[0m\u001b[0;34m\u001b[0m\u001b[0m\n\u001b[1;32m     11\u001b[0m                 \u001b[0mw2\u001b[0m \u001b[0;34m=\u001b[0m \u001b[0malphabetized_list\u001b[0m\u001b[0;34m[\u001b[0m\u001b[0mword2_index\u001b[0m\u001b[0;34m]\u001b[0m\u001b[0;34m\u001b[0m\u001b[0;34m\u001b[0m\u001b[0m\n\u001b[0;32m---> 12\u001b[0;31m                 \u001b[0;32mif\u001b[0m \u001b[0mw1\u001b[0m\u001b[0;34m[\u001b[0m\u001b[0;36m0\u001b[0m\u001b[0;34m]\u001b[0m \u001b[0;34m>\u001b[0m \u001b[0mw2\u001b[0m\u001b[0;34m[\u001b[0m\u001b[0;36m0\u001b[0m\u001b[0;34m]\u001b[0m\u001b[0;34m:\u001b[0m\u001b[0;34m\u001b[0m\u001b[0;34m\u001b[0m\u001b[0m\n\u001b[0m\u001b[1;32m     13\u001b[0m                     \u001b[0malphabetized_list\u001b[0m\u001b[0;34m.\u001b[0m\u001b[0minsert\u001b[0m\u001b[0;34m(\u001b[0m\u001b[0mword2_index\u001b[0m\u001b[0;34m,\u001b[0m\u001b[0mw1\u001b[0m\u001b[0;34m)\u001b[0m\u001b[0;34m\u001b[0m\u001b[0;34m\u001b[0m\u001b[0m\n\u001b[1;32m     14\u001b[0m                     \u001b[0;32mbreak\u001b[0m\u001b[0;34m\u001b[0m\u001b[0;34m\u001b[0m\u001b[0m\n",
      "\u001b[0;31mTypeError\u001b[0m: 'int' object is not subscriptable"
     ]
    }
   ],
   "source": [
    "# Create your own list of words and use alphabetize_list to sort them\n",
    "\n",
    "my_list = [...YOUR LIST ITEMS GO HERE...] # remember -- strings have to go inside quotes \"\" or ''\n",
    "alphabetize_list(my_list)"
   ]
  },
  {
   "cell_type": "code",
   "execution_count": null,
   "metadata": {},
   "outputs": [],
   "source": [
    "# How would you change alphabetize_list to sort in reverse alphabetical order?"
   ]
  }
 ],
 "metadata": {
  "kernelspec": {
   "display_name": "Python 3",
   "language": "python",
   "name": "python3"
  },
  "language_info": {
   "codemirror_mode": {
    "name": "ipython",
    "version": 3
   },
   "file_extension": ".py",
   "mimetype": "text/x-python",
   "name": "python",
   "nbconvert_exporter": "python",
   "pygments_lexer": "ipython3",
   "version": "3.6.8"
  }
 },
 "nbformat": 4,
 "nbformat_minor": 4
}
