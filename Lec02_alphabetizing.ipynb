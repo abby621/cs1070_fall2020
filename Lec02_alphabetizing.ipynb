{
 "cells": [
  {
   "cell_type": "code",
   "execution_count": null,
   "metadata": {},
   "outputs": [],
   "source": [
    "# This is a Python comment. It's used to explain what the code is doing.\n",
    "\n",
    "# create our list that isn't yet alphabetized\n",
    "unalphabetized_list = ['SLU','Billiken','Arch','COVID']\n",
    "\n",
    "# we can use print statements to see what our variables actually look like\n",
    "print('Before alphabetizing: ', unalphabetized_list)\n",
    "\n",
    "# you can either hit the \"Run\" button to run this cell\n",
    "# or hit Control - Enter on your keyboard"
   ]
  },
  {
   "cell_type": "code",
   "execution_count": null,
   "metadata": {},
   "outputs": [],
   "source": [
    "# Python starts \"indexing\" (or counting) at 0\n",
    "# If you want to get the first element of the list,\n",
    "# in Python that means you want to get the 0th element\n",
    "\n",
    "first_element = unalphabetized_list[0]\n",
    "print(first_element)"
   ]
  },
  {
   "cell_type": "code",
   "execution_count": null,
   "metadata": {},
   "outputs": [],
   "source": [
    "# you can figure out how long the list is using len\n",
    "num_elements = len(unalphabetized_list)\n",
    "print(num_elements)"
   ]
  },
  {
   "cell_type": "code",
   "execution_count": null,
   "metadata": {},
   "outputs": [],
   "source": [
    "# What if I wanted to get the last element?\n",
    "print(unalphabetized_list[num_elements])"
   ]
  },
  {
   "cell_type": "code",
   "execution_count": null,
   "metadata": {},
   "outputs": [],
   "source": [
    "# why didn't that work?\n",
    "\n",
    "last_element = unalphabetized_list[num_elements-1]\n",
    "print(last_element)\n",
    "\n",
    "# or:\n",
    "\n",
    "last_element = unalphabetized_list[-1]\n",
    "print(last_element)"
   ]
  },
  {
   "cell_type": "code",
   "execution_count": null,
   "metadata": {},
   "outputs": [],
   "source": [
    "# if we wanted to do something with each element in the list, we can use for loops:\n",
    "for word in unalphabetized_list:\n",
    "    print(word)"
   ]
  },
  {
   "cell_type": "code",
   "execution_count": null,
   "metadata": {},
   "outputs": [],
   "source": [
    "# we can also do \"checks\" and perform different operations based on those checks\n",
    "for word in unalphabetized_list:\n",
    "    if \"U\" in word or \"A\" in word:\n",
    "        print(word)\n",
    "    else:\n",
    "        print('No U or A in', word)"
   ]
  },
  {
   "cell_type": "code",
   "execution_count": null,
   "metadata": {},
   "outputs": [],
   "source": [
    "# we can decide to just not do anything if there's no U or A in our word\n",
    "for word in unalphabetized_list:\n",
    "    if \"U\" in word or \"A\" in word:\n",
    "        print(word)\n",
    "    else:\n",
    "        continue"
   ]
  },
  {
   "cell_type": "code",
   "execution_count": null,
   "metadata": {},
   "outputs": [],
   "source": [
    "# or we can stop doing anything!\n",
    "for word in unalphabetized_list:\n",
    "    if \"U\" in word or \"A\" in word:\n",
    "        print(word)\n",
    "    else:\n",
    "        break"
   ]
  },
  {
   "cell_type": "code",
   "execution_count": null,
   "metadata": {},
   "outputs": [],
   "source": [
    "# Those are the building blocks we need to be able to read the code for our alphabetizing algorithm!\n",
    "\n",
    "# The following code is our alphabetizing algorithm.\n",
    "# We are going to go through this line by line in class\n",
    "\n",
    "# create our empty list that will contain the alphabetized words when we're done\n",
    "alphabetized_list = []\n",
    "\n",
    "for w1 in unalphabetized_list:\n",
    "    if len(alphabetized_list) == 0:\n",
    "        alphabetized_list.append(w1)\n",
    "    else:\n",
    "        for word2_index in range(len(alphabetized_list)):\n",
    "            w2 = alphabetized_list[word2_index]\n",
    "            if w1[0] < w2[0]:\n",
    "                alphabetized_list.insert(word2_index,w1)\n",
    "                break\n",
    "            else:\n",
    "                if word2_index == len(alphabetized_list)-1:\n",
    "                    alphabetized_list.append(w1)\n",
    "\n",
    "print('After alphabetizing: ', alphabetized_list)"
   ]
  },
  {
   "cell_type": "code",
   "execution_count": null,
   "metadata": {},
   "outputs": [],
   "source": [
    "# This is the same thing but using a *function*\n",
    "\n",
    "def alphabetize_list(unalphabetized_list):\n",
    "    alphabetized_list = []\n",
    "\n",
    "    for w1 in unalphabetized_list:\n",
    "        if len(alphabetized_list) == 0:\n",
    "            alphabetized_list.append(w1)\n",
    "        else:\n",
    "            for word2_index in range(len(alphabetized_list)):\n",
    "                w2 = alphabetized_list[word2_index]\n",
    "                if w1[0] < w2[0]:\n",
    "                    alphabetized_list.insert(word2_index,w1)\n",
    "                    break\n",
    "                else:\n",
    "                    if word2_index == len(alphabetized_list)-1:\n",
    "                        alphabetized_list.append(w1)\n",
    "    \n",
    "    return alphabetized_list\n",
    "\n",
    "alphabetize_list(['dog','cat','frog','bird'])"
   ]
  },
  {
   "cell_type": "code",
   "execution_count": null,
   "metadata": {},
   "outputs": [],
   "source": [
    "# Create your own list of words and use alphabetize_list to sort them\n",
    "\n",
    "my_list = [...YOUR LIST ITEMS GO HERE...] # remember -- strings have to go inside quotes \"\" or ''\n",
    "alphabetize_list(my_list)"
   ]
  },
  {
   "cell_type": "code",
   "execution_count": null,
   "metadata": {},
   "outputs": [],
   "source": [
    "# How would you change alphabetize_list to sort in reverse alphabetical order?"
   ]
  }
 ],
 "metadata": {
  "kernelspec": {
   "display_name": "Python 3",
   "language": "python",
   "name": "python3"
  },
  "language_info": {
   "codemirror_mode": {
    "name": "ipython",
    "version": 3
   },
   "file_extension": ".py",
   "mimetype": "text/x-python",
   "name": "python",
   "nbconvert_exporter": "python",
   "pygments_lexer": "ipython3",
   "version": "3.7.4"
  }
 },
 "nbformat": 4,
 "nbformat_minor": 4
}
